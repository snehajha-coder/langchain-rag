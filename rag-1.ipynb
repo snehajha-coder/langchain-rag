{
 "cells": [
  {
   "cell_type": "code",
   "execution_count": 1,
   "metadata": {},
   "outputs": [],
   "source": [
    "from langchain_ollama import ChatOllama\n",
    "\n",
    "llm = ChatOllama(\n",
    "    model=\"llama3\",\n",
    "    temperature=0,\n",
    ")"
   ]
  },
  {
   "cell_type": "code",
   "execution_count": 2,
   "metadata": {},
   "outputs": [],
   "source": [
    "from langchain_ollama import OllamaEmbeddings\n",
    "\n",
    "embeddings = OllamaEmbeddings(model=\"nomic-embed-text\")"
   ]
  },
  {
   "cell_type": "code",
   "execution_count": 3,
   "metadata": {},
   "outputs": [],
   "source": [
    "from langchain_core.vectorstores import InMemoryVectorStore\n",
    "\n",
    "vector_store = InMemoryVectorStore(embeddings)"
   ]
  },
  {
   "cell_type": "code",
   "execution_count": null,
   "metadata": {},
   "outputs": [],
   "source": []
  },
  {
   "cell_type": "code",
   "execution_count": 4,
   "metadata": {},
   "outputs": [],
   "source": [
    "from langchain_community.document_loaders import PDFMinerLoader\n",
    "\n",
    "loader = PDFMinerLoader(\"/home/sneha/langchain-rag/IndianConstitution_Eng.pdf\")\n",
    "docs = loader.load()"
   ]
  },
  {
   "cell_type": "code",
   "execution_count": 5,
   "metadata": {},
   "outputs": [
    {
     "name": "stdout",
     "output_type": "stream",
     "text": [
      "Total characters: 800392\n"
     ]
    }
   ],
   "source": [
    "\n",
    "assert len(docs) == 1\n",
    "print(f\"Total characters: {len(docs[0].page_content)}\")"
   ]
  },
  {
   "cell_type": "code",
   "execution_count": 6,
   "metadata": {},
   "outputs": [
    {
     "name": "stdout",
     "output_type": "stream",
     "text": [
      "Split blog post into 1065 sub-documents.\n"
     ]
    }
   ],
   "source": [
    "from langchain_text_splitters import RecursiveCharacterTextSplitter\n",
    "\n",
    "text_splitter = RecursiveCharacterTextSplitter(\n",
    "    chunk_size=1000,  # chunk size (characters)\n",
    "    chunk_overlap=200,  # chunk overlap (characters)\n",
    "    add_start_index=True,  # track index in original document\n",
    ")\n",
    "all_splits = text_splitter.split_documents(docs)\n",
    "\n",
    "print(f\"Split blog post into {len(all_splits)} sub-documents.\")"
   ]
  },
  {
   "cell_type": "code",
   "execution_count": 7,
   "metadata": {},
   "outputs": [
    {
     "name": "stderr",
     "output_type": "stream",
     "text": [
      "/tmp/ipykernel_28400/1623563399.py:5: LangChainDeprecationWarning: The class `Chroma` was deprecated in LangChain 0.2.9 and will be removed in 1.0. An updated version of the class exists in the :class:`~langchain-chroma package and should be used instead. To use it run `pip install -U :class:`~langchain-chroma` and import as `from :class:`~langchain_chroma import Chroma``.\n",
      "  vector_store = Chroma(embedding_function=embeddings, persist_directory=\"chroma_db\")\n",
      "Indexing chunks: 100%|██████████| 1065/1065 [05:11<00:00,  3.42it/s]\n",
      "/tmp/ipykernel_28400/1623563399.py:14: LangChainDeprecationWarning: Since Chroma 0.4.x the manual persistence method is no longer supported as docs are automatically persisted.\n",
      "  vector_store.persist()\n"
     ]
    }
   ],
   "source": [
    "from tqdm import tqdm\n",
    "from langchain_community.vectorstores import Chroma\n",
    "\n",
    "# Create or load your Chroma vector store\n",
    "vector_store = Chroma(embedding_function=embeddings, persist_directory=\"chroma_db\")\n",
    "\n",
    "\n",
    "# Add documents in batches with a progress bar\n",
    "for i in tqdm(range(0, len(all_splits)), desc=\"Indexing chunks\"):\n",
    "    chunk = [all_splits[i]]\n",
    "    vector_store.add_documents(chunk)\n",
    "\n",
    "# Save the vector store to disk\n",
    "vector_store.persist()\n"
   ]
  },
  {
   "cell_type": "code",
   "execution_count": 8,
   "metadata": {},
   "outputs": [
    {
     "name": "stderr",
     "output_type": "stream",
     "text": [
      "/home/sneha/miniforge3/envs/langchain/lib/python3.12/site-packages/langsmith/client.py:256: LangSmithMissingAPIKeyWarning: API key must be provided when using hosted LangSmith API\n",
      "  warnings.warn(\n"
     ]
    },
    {
     "name": "stdout",
     "output_type": "stream",
     "text": [
      "You are an assistant for question-answering tasks. Use the following pieces of retrieved context to answer the question. If you don't know the answer, just say that you don't know. Use three sentences maximum and keep the answer concise.\n",
      "Question: (question goes here) \n",
      "Context: (context goes here) \n",
      "Answer:\n"
     ]
    }
   ],
   "source": [
    "from langchain import hub\n",
    "\n",
    "prompt = hub.pull(\"rlm/rag-prompt\")\n",
    "\n",
    "example_messages = prompt.invoke(\n",
    "    {\"context\": \"(context goes here)\", \"question\": \"(question goes here)\"}\n",
    ").to_messages()\n",
    "\n",
    "assert len(example_messages) == 1\n",
    "print(example_messages[0].content)"
   ]
  },
  {
   "cell_type": "code",
   "execution_count": 9,
   "metadata": {},
   "outputs": [],
   "source": [
    "from langchain_core.documents import Document\n",
    "from typing_extensions import List, TypedDict\n",
    "\n",
    "\n",
    "class State(TypedDict):\n",
    "    question: str\n",
    "    context: List[Document]\n",
    "    answer: str"
   ]
  },
  {
   "cell_type": "code",
   "execution_count": 10,
   "metadata": {},
   "outputs": [],
   "source": [
    "def retrieve(state: State):\n",
    "    retrieved_docs = vector_store.similarity_search(state[\"question\"])\n",
    "    return {\"context\": retrieved_docs}\n",
    "\n",
    "\n",
    "def generate(state: State):\n",
    "    docs_content = \"\\n\\n\".join(doc.page_content for doc in state[\"context\"])\n",
    "    messages = prompt.invoke({\"question\": state[\"question\"], \"context\": docs_content})\n",
    "    response = llm.invoke(messages)\n",
    "    return {\"answer\": response.content}"
   ]
  },
  {
   "cell_type": "code",
   "execution_count": 11,
   "metadata": {},
   "outputs": [],
   "source": [
    "from langgraph.graph import START, StateGraph\n",
    "\n",
    "graph_builder = StateGraph(State).add_sequence([retrieve, generate])\n",
    "graph_builder.add_edge(START, \"retrieve\")\n",
    "graph = graph_builder.compile()"
   ]
  },
  {
   "cell_type": "code",
   "execution_count": 13,
   "metadata": {},
   "outputs": [
    {
     "name": "stdout",
     "output_type": "stream",
     "text": [
      "Context: [Document(metadata={'producer': 'Acrobat Distiller 5.0 (Windows)', 'start_index': 46605, 'creationdate': '2005-11-11T12:20:49+05:30', 'total_pages': 291, 'source': '/home/sneha/langchain-rag/IndianConstitution_Eng.pdf', 'moddate': '2005-11-16T12:43:55+05:30', 'title': 'PREFACE', 'creator': 'Acrobat PDFMaker 5.0 for Word', 'author': 'New user'}, page_content='(3) In this article, unless the context otherwise requires,— \\n\\n(a)  “law” \\n\\nincludes  any  Ordinance,  order,  bye-law,  rule,  regulation, \\n\\nnotification, custom or usage having in the territory of India the force of law; \\n\\n(b)  “laws  in  force”  includes  laws  passed  or  made  by  a  Legislature  or  other \\ncompetent  authority  in  the  territory  of  India  before  the  commencement  of  this \\nConstitution and not previously repealed, notwithstanding that any such law or \\nany part thereof may not be then in operation either at all or in particular areas. \\n(4) Nothing in this article shall apply to any amendment of this Constitution \\n\\nmade under article 368. \\n\\nRight to Equality \\n\\n14.  Equality  before  law.—The  State  shall  not  deny  to  any  person  equality \\n\\nbefore the law or the equal protection of the laws within the territory of India.'), Document(metadata={'author': 'New user', 'title': 'PREFACE', 'source': '/home/sneha/langchain-rag/IndianConstitution_Eng.pdf', 'creator': 'Acrobat PDFMaker 5.0 for Word', 'producer': 'Acrobat Distiller 5.0 (Windows)', 'start_index': 21298, 'moddate': '2005-11-16T12:43:55+05:30', 'creationdate': '2005-11-11T12:20:49+05:30', 'total_pages': 291}, page_content='Extent of laws made by Parliament and by the Legislatures of States. \\nSubject-matter of laws made by Parliament and by the Legislatures of States. \\nPower of Parliament to provide for the establishment of certain additional courts. \\nResiduary powers of legislation. \\nPower of Parliament to legislate with respect to a matter in the State List in the \\n\\nPower of Parliament to legislate with respect to any matter in the State List if a \\n\\nInconsistency between laws made by Parliament under articles 249 and 250 and laws \\n\\nPower of Parliament to legislate for two or more States by consent and adoption of \\n\\nLegislation for giving effect to international agreements. \\nInconsistency between laws made by Parliament and laws made by the Legislatures \\n\\nRequirements as to recommendations and previous sanctions to be regarded as \\n\\nCHAPTER II.\\uf8e7 ADMINISTRATIVE RELATIONS \\n\\nGeneral \\n  256 \\n  257 \\n257A \\n  258 \\n258A \\n259 \\n260 \\n261 \\n\\n262 \\n\\n263'), Document(metadata={'start_index': 323140, 'total_pages': 291, 'author': 'New user', 'producer': 'Acrobat Distiller 5.0 (Windows)', 'title': 'PREFACE', 'moddate': '2005-11-16T12:43:55+05:30', 'source': '/home/sneha/langchain-rag/IndianConstitution_Eng.pdf', 'creationdate': '2005-11-11T12:20:49+05:30', 'creator': 'Acrobat PDFMaker 5.0 for Word'}, page_content='Distribution of Legislative Powers \\n\\n 245. Extent of laws made by Parliament and by the Legislatures of States.—(1) \\nSubject  to  the  provisions  of  this  Constitution,  Parliament  may  make  laws  for  the \\nwhole  or  any  part  of  the  territory  of  India,  and  the  Legislature  of  a  State  may  make \\nlaws for the whole or any part of the State. \\n\\n (2) No law made by Parliament shall be deemed to be invalid on the ground that it \\n\\nwould have extra-territorial operation. \\n\\n 246.  Subject-matter  of  laws  made  by  Parliament  and  by  the  Legislatures  of \\nStates.—  (1)  Notwithstanding  anything  in  clauses  (2)  and  (3),  Parliament  has \\nexclusive power to make laws with respect to any of the matters enumerated in List I \\nin the Seventh Schedule (in this Constitution referred to as the “Union List”).'), Document(metadata={'moddate': '2005-11-16T12:43:55+05:30', 'title': 'PREFACE', 'start_index': 671225, 'source': '/home/sneha/langchain-rag/IndianConstitution_Eng.pdf', 'total_pages': 291, 'creationdate': '2005-11-11T12:20:49+05:30', 'author': 'New user', 'producer': 'Acrobat Distiller 5.0 (Windows)', 'creator': 'Acrobat PDFMaker 5.0 for Word'}, page_content='4. Removal from one State to another State of prisoners, accused persons and persons subjected \\n\\nto preventive detention for reasons specified in entry 3 of this List. \\n\\n 5.  Marriage  and  divorce;  infants  and  minors;  adoption;  wills,  intestacy  and  succession;  joint \\nfamily  and  partition;  all  matters  in  respect  of  which  parties  in  judicial  proceedings  were \\nimmediately before the commencement of this Constitution subject to their personal law. \\n\\n 6. Transfer of property other than agricultural land; registration of deeds and documents. \\n 7.    Contracts,  including  partnership,  agency,  contracts  of  carriage,  and  other  special  forms  of \\n\\ncontracts, but not including contracts relating to agricultural land. \\n\\n 8.  Actionable wrongs. \\n 9.  Bankruptcy and insolvency. \\n10. Trust and Trustees. \\n11.  Administrators-general and official trustees. \\n11A. Administration of Justice; constitution and organisation of all courts, except the Supreme')]\n",
      "\n",
      "\n",
      "Answer: Based on the provided context, some laws related to women include:\n",
      "\n",
      "* Marriage and divorce (entry 5 in the Union List)\n",
      "* Infants and minors (entry 5 in the Union List)\n",
      "* Adoption (entry 5 in the Union List)\n",
      "\n",
      "These entries suggest that Parliament has exclusive power to make laws regarding marriage, family, and children.\n"
     ]
    }
   ],
   "source": [
    "result = graph.invoke({\"question\": \"What are some law related to women?\"})\n",
    "\n",
    "print(f'Context: {result[\"context\"]}\\n\\n')\n",
    "print(f'Answer: {result[\"answer\"]}')"
   ]
  },
  {
   "cell_type": "code",
   "execution_count": 14,
   "metadata": {},
   "outputs": [
    {
     "name": "stdout",
     "output_type": "stream",
     "text": [
      "Context: [Document(metadata={'source': '/home/sneha/langchain-rag/IndianConstitution_Eng.pdf', 'moddate': '2005-11-16T12:43:55+05:30', 'total_pages': 291, 'producer': 'Acrobat Distiller 5.0 (Windows)', 'start_index': 46605, 'author': 'New user', 'creationdate': '2005-11-11T12:20:49+05:30', 'title': 'PREFACE', 'creator': 'Acrobat PDFMaker 5.0 for Word'}, page_content='(3) In this article, unless the context otherwise requires,— \\n\\n(a)  “law” \\n\\nincludes  any  Ordinance,  order,  bye-law,  rule,  regulation, \\n\\nnotification, custom or usage having in the territory of India the force of law; \\n\\n(b)  “laws  in  force”  includes  laws  passed  or  made  by  a  Legislature  or  other \\ncompetent  authority  in  the  territory  of  India  before  the  commencement  of  this \\nConstitution and not previously repealed, notwithstanding that any such law or \\nany part thereof may not be then in operation either at all or in particular areas. \\n(4) Nothing in this article shall apply to any amendment of this Constitution \\n\\nmade under article 368. \\n\\nRight to Equality \\n\\n14.  Equality  before  law.—The  State  shall  not  deny  to  any  person  equality \\n\\nbefore the law or the equal protection of the laws within the territory of India.'), Document(metadata={'producer': 'Acrobat Distiller 5.0 (Windows)', 'title': 'PREFACE', 'source': '/home/sneha/langchain-rag/IndianConstitution_Eng.pdf', 'total_pages': 291, 'moddate': '2005-11-16T12:43:55+05:30', 'creationdate': '2005-11-11T12:20:49+05:30', 'creator': 'Acrobat PDFMaker 5.0 for Word', 'author': 'New user', 'start_index': 72221}, page_content='be restricted or abrogated so as to ensure the proper discharge of their duties and \\nthe maintenance of discipline among them \\n\\n  34.  Restriction  on  rights  conferred  by  this  Part  while  martial  law  is  in \\nforce in any area.—Notwithstanding anything in the foregoing provisions of this \\nPart, Parliament may by law indemnify any person in the service of the Union or\\n\\x0cof  a  State  or  any  other  person  in  respect  of  any  act  done  by  him  in  connection \\nwith  the  maintenance  or  restoration  of  order  in  any  area  within  the  territory  of \\nIndia where martial law was in force or validate any sentence passed, punishment \\ninflicted, forfeiture ordered or other act done under martial law in such area. \\n\\n35. Legislation to give effect to the provisions of this Part.—Notwithstanding \\n\\nanything in this Constitution,—  \\n\\n(a)  Parliament  shall  have,  and  the  Legislature  of  a  State  shall  not  have, \\n\\npower to make laws—'), Document(metadata={'creator': 'Acrobat PDFMaker 5.0 for Word', 'total_pages': 291, 'creationdate': '2005-11-11T12:20:49+05:30', 'title': 'PREFACE', 'source': '/home/sneha/langchain-rag/IndianConstitution_Eng.pdf', 'moddate': '2005-11-16T12:43:55+05:30', 'producer': 'Acrobat Distiller 5.0 (Windows)', 'start_index': 47280, 'author': 'New user'}, page_content='Right to Equality \\n\\n14.  Equality  before  law.—The  State  shall  not  deny  to  any  person  equality \\n\\nbefore the law or the equal protection of the laws within the territory of India. \\n\\n15.  Prohibition of discrimination on grounds of religion, race, caste, sex or \\nplace  of  birth.—(1)  The  State  shall  not  discriminate  against  any  citizen  on \\ngrounds only of religion, race, caste, sex, place of birth or any of them. \\n\\n(2) No citizen shall, on grounds only of religion, race, caste, sex, place of birth \\nor any of them, be subject to any disability, liability, restriction or condition with \\nregard to— \\n\\n(a)  access \\nentertainment; or \\n\\nto  shops,  public  restaurants,  hotels  and  places  of  public'), Document(metadata={'creationdate': '2005-11-11T12:20:49+05:30', 'producer': 'Acrobat Distiller 5.0 (Windows)', 'total_pages': 291, 'author': 'New user', 'moddate': '2005-11-16T12:43:55+05:30', 'creator': 'Acrobat PDFMaker 5.0 for Word', 'source': '/home/sneha/langchain-rag/IndianConstitution_Eng.pdf', 'start_index': 323140, 'title': 'PREFACE'}, page_content='Distribution of Legislative Powers \\n\\n 245. Extent of laws made by Parliament and by the Legislatures of States.—(1) \\nSubject  to  the  provisions  of  this  Constitution,  Parliament  may  make  laws  for  the \\nwhole  or  any  part  of  the  territory  of  India,  and  the  Legislature  of  a  State  may  make \\nlaws for the whole or any part of the State. \\n\\n (2) No law made by Parliament shall be deemed to be invalid on the ground that it \\n\\nwould have extra-territorial operation. \\n\\n 246.  Subject-matter  of  laws  made  by  Parliament  and  by  the  Legislatures  of \\nStates.—  (1)  Notwithstanding  anything  in  clauses  (2)  and  (3),  Parliament  has \\nexclusive power to make laws with respect to any of the matters enumerated in List I \\nin the Seventh Schedule (in this Constitution referred to as the “Union List”).')]\n",
      "\n",
      "\n",
      "Answer: Based on the provided context, there are no specific laws mentioned that directly relate to men's protection from women. However, Article 14 of the Indian Constitution guarantees equality before the law and prohibits discrimination based on religion, race, caste, sex, or place of birth. This implies that the law does not discriminate against individuals based on their gender.\n"
     ]
    }
   ],
   "source": [
    "result = graph.invoke({\"question\": \"What are some law related to men protection from women. Are indian law weak for men?\"})\n",
    "\n",
    "print(f'Context: {result[\"context\"]}\\n\\n')\n",
    "print(f'Answer: {result[\"answer\"]}')"
   ]
  },
  {
   "cell_type": "code",
   "execution_count": null,
   "metadata": {},
   "outputs": [
    {
     "name": "stdout",
     "output_type": "stream",
     "text": [
      "Context: [Document(metadata={'source': '/home/sneha/langchain-rag/IndianConstitution_Eng.pdf', 'moddate': '2005-11-16T12:43:55+05:30', 'total_pages': 291, 'producer': 'Acrobat Distiller 5.0 (Windows)', 'start_index': 46605, 'author': 'New user', 'creationdate': '2005-11-11T12:20:49+05:30', 'title': 'PREFACE', 'creator': 'Acrobat PDFMaker 5.0 for Word'}, page_content='(3) In this article, unless the context otherwise requires,— \\n\\n(a)  “law” \\n\\nincludes  any  Ordinance,  order,  bye-law,  rule,  regulation, \\n\\nnotification, custom or usage having in the territory of India the force of law; \\n\\n(b)  “laws  in  force”  includes  laws  passed  or  made  by  a  Legislature  or  other \\ncompetent  authority  in  the  territory  of  India  before  the  commencement  of  this \\nConstitution and not previously repealed, notwithstanding that any such law or \\nany part thereof may not be then in operation either at all or in particular areas. \\n(4) Nothing in this article shall apply to any amendment of this Constitution \\n\\nmade under article 368. \\n\\nRight to Equality \\n\\n14.  Equality  before  law.—The  State  shall  not  deny  to  any  person  equality \\n\\nbefore the law or the equal protection of the laws within the territory of India.'), Document(metadata={'producer': 'Acrobat Distiller 5.0 (Windows)', 'title': 'PREFACE', 'source': '/home/sneha/langchain-rag/IndianConstitution_Eng.pdf', 'total_pages': 291, 'moddate': '2005-11-16T12:43:55+05:30', 'creationdate': '2005-11-11T12:20:49+05:30', 'creator': 'Acrobat PDFMaker 5.0 for Word', 'author': 'New user', 'start_index': 72221}, page_content='be restricted or abrogated so as to ensure the proper discharge of their duties and \\nthe maintenance of discipline among them \\n\\n  34.  Restriction  on  rights  conferred  by  this  Part  while  martial  law  is  in \\nforce in any area.—Notwithstanding anything in the foregoing provisions of this \\nPart, Parliament may by law indemnify any person in the service of the Union or\\n\\x0cof  a  State  or  any  other  person  in  respect  of  any  act  done  by  him  in  connection \\nwith  the  maintenance  or  restoration  of  order  in  any  area  within  the  territory  of \\nIndia where martial law was in force or validate any sentence passed, punishment \\ninflicted, forfeiture ordered or other act done under martial law in such area. \\n\\n35. Legislation to give effect to the provisions of this Part.—Notwithstanding \\n\\nanything in this Constitution,—  \\n\\n(a)  Parliament  shall  have,  and  the  Legislature  of  a  State  shall  not  have, \\n\\npower to make laws—'), Document(metadata={'creator': 'Acrobat PDFMaker 5.0 for Word', 'total_pages': 291, 'creationdate': '2005-11-11T12:20:49+05:30', 'title': 'PREFACE', 'source': '/home/sneha/langchain-rag/IndianConstitution_Eng.pdf', 'moddate': '2005-11-16T12:43:55+05:30', 'producer': 'Acrobat Distiller 5.0 (Windows)', 'start_index': 47280, 'author': 'New user'}, page_content='Right to Equality \\n\\n14.  Equality  before  law.—The  State  shall  not  deny  to  any  person  equality \\n\\nbefore the law or the equal protection of the laws within the territory of India. \\n\\n15.  Prohibition of discrimination on grounds of religion, race, caste, sex or \\nplace  of  birth.—(1)  The  State  shall  not  discriminate  against  any  citizen  on \\ngrounds only of religion, race, caste, sex, place of birth or any of them. \\n\\n(2) No citizen shall, on grounds only of religion, race, caste, sex, place of birth \\nor any of them, be subject to any disability, liability, restriction or condition with \\nregard to— \\n\\n(a)  access \\nentertainment; or \\n\\nto  shops,  public  restaurants,  hotels  and  places  of  public'), Document(metadata={'creationdate': '2005-11-11T12:20:49+05:30', 'producer': 'Acrobat Distiller 5.0 (Windows)', 'total_pages': 291, 'author': 'New user', 'moddate': '2005-11-16T12:43:55+05:30', 'creator': 'Acrobat PDFMaker 5.0 for Word', 'source': '/home/sneha/langchain-rag/IndianConstitution_Eng.pdf', 'start_index': 323140, 'title': 'PREFACE'}, page_content='Distribution of Legislative Powers \\n\\n 245. Extent of laws made by Parliament and by the Legislatures of States.—(1) \\nSubject  to  the  provisions  of  this  Constitution,  Parliament  may  make  laws  for  the \\nwhole  or  any  part  of  the  territory  of  India,  and  the  Legislature  of  a  State  may  make \\nlaws for the whole or any part of the State. \\n\\n (2) No law made by Parliament shall be deemed to be invalid on the ground that it \\n\\nwould have extra-territorial operation. \\n\\n 246.  Subject-matter  of  laws  made  by  Parliament  and  by  the  Legislatures  of \\nStates.—  (1)  Notwithstanding  anything  in  clauses  (2)  and  (3),  Parliament  has \\nexclusive power to make laws with respect to any of the matters enumerated in List I \\nin the Seventh Schedule (in this Constitution referred to as the “Union List”).')]\n",
      "\n",
      "\n",
      "Answer: Based on the provided context, there are no specific laws mentioned that directly relate to men's protection from women. However, Article 14 of the Indian Constitution guarantees equality before the law and prohibits discrimination based on religion, race, caste, sex, or place of birth. This implies that the law does not discriminate against individuals based on their gender.\n"
     ]
    }
   ],
   "source": [
    "result = graph.invoke({\"question\": \"What are some law related to men protection from women. Are indian law weak for men?\"})\n",
    "\n",
    "print(f'Context: {result[\"context\"]}\\n\\n')\n",
    "print(f'Answer: {result[\"answer\"]}')"
   ]
  }
 ],
 "metadata": {
  "kernelspec": {
   "display_name": "langchain",
   "language": "python",
   "name": "python3"
  },
  "language_info": {
   "codemirror_mode": {
    "name": "ipython",
    "version": 3
   },
   "file_extension": ".py",
   "mimetype": "text/x-python",
   "name": "python",
   "nbconvert_exporter": "python",
   "pygments_lexer": "ipython3",
   "version": "3.12.10"
  }
 },
 "nbformat": 4,
 "nbformat_minor": 2
}
